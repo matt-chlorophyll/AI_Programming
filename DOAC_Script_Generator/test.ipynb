{
 "cells": [
  {
   "cell_type": "code",
   "execution_count": 1,
   "id": "9a8aa552-2997-442b-a147-d9862d2e959e",
   "metadata": {},
   "outputs": [],
   "source": [
    "import yt_dlp\n",
    "import whisper\n",
    "import os\n",
    "from datetime import datetime"
   ]
  },
  {
   "cell_type": "code",
   "execution_count": 27,
   "id": "e2f041d6-eead-4e83-bf3e-ce407f61b2c6",
   "metadata": {},
   "outputs": [],
   "source": [
    "class YoutubeTranscriber:\n",
    "    def __init__(self, model_size=\"base\"):\n",
    "        \"\"\"\n",
    "        Initialize the transcriber with specified whisper model size\n",
    "        model_size options: \"tiny\", \"base\", \"small\", \"medium\", \"large\"\n",
    "        \"\"\"\n",
    "        # Check if CUDA is available\n",
    "        import torch\n",
    "        self.device = \"cuda\" if torch.cuda.is_available() else \"cpu\"\n",
    "        print(f\"Using device: {self.device}\")\n",
    "        \n",
    "        # Add FFmpeg to system PATH if it's not already there\n",
    "        ffmpeg_path = \"C:\\\\FFmpeg\\\\bin\"\n",
    "        if ffmpeg_path not in os.environ[\"PATH\"]:\n",
    "            os.environ[\"PATH\"] = ffmpeg_path + os.pathsep + os.environ[\"PATH\"]\n",
    "        \n",
    "        self.model = whisper.load_model(model_size).to(self.device)\n",
    "        \n",
    "        # Set up working directory and output directory with absolute paths\n",
    "        self.working_dir = 'C:\\\\Users\\\\matt_\\\\OneDrive\\\\Desktop\\\\AI_Programming\\\\DOAC_Script_Generator'\n",
    "        self.output_dir = os.path.join(self.working_dir, \"transcripts\")\n",
    "        \n",
    "        # Create output directory if it doesn't exist\n",
    "        if not os.path.exists(self.output_dir):\n",
    "            os.makedirs(self.output_dir)\n",
    "\n",
    "    def download_audio(self, youtube_url):\n",
    "        \"\"\"Download audio from YouTube video\"\"\"\n",
    "        # Create full path for temporary audio file\n",
    "        temp_audio_path = os.path.join(self.working_dir, 'temp_audio.mp3')\n",
    "        \n",
    "        ydl_opts = {\n",
    "            'format': 'bestaudio/best',\n",
    "            'postprocessors': [{\n",
    "                'key': 'FFmpegExtractAudio',\n",
    "                'preferredcodec': 'mp3',\n",
    "                'preferredquality': '192',\n",
    "            }],\n",
    "            'outtmpl': os.path.join(self.working_dir, 'temp_audio.%(ext)s'),\n",
    "            'ffmpeg_location': 'C:\\\\FFmpeg\\\\bin\\\\ffmpeg.exe'\n",
    "        }\n",
    "        \n",
    "        with yt_dlp.YoutubeDL(ydl_opts) as ydl:\n",
    "            try:\n",
    "                info = ydl.extract_info(youtube_url, download=True)\n",
    "                return temp_audio_path, info.get('title', 'Untitled')\n",
    "            except Exception as e:\n",
    "                print(f\"Error downloading video: {str(e)}\")\n",
    "                return None, None\n",
    "\n",
    "    def transcribe_audio(self, audio_path, video_title):\n",
    "        \"\"\"Transcribe the audio file using Whisper\"\"\"\n",
    "        try:\n",
    "            # Add file check with absolute path\n",
    "            if not os.path.exists(audio_path):\n",
    "                print(f\"Audio file not found at: {audio_path}\")\n",
    "                return None\n",
    "            \n",
    "            # Convert audio path to absolute path\n",
    "            audio_path = os.path.abspath(audio_path)\n",
    "            print(f\"Starting transcription of file: {audio_path}\")\n",
    "            \n",
    "            # Transcribe the audio with GPU settings\n",
    "            result = self.model.transcribe(\n",
    "                audio_path,\n",
    "                fp16=False if self.device == \"cpu\" else True\n",
    "            )\n",
    "            \n",
    "            # Create filename with timestamp using absolute path\n",
    "            timestamp = datetime.now().strftime(\"%Y%m%d_%H%M%S\")\n",
    "            safe_title = \"\".join(x for x in video_title if x.isalnum() or x in (' ', '-', '_'))\n",
    "            filename = os.path.join(self.output_dir, f\"{timestamp}_{safe_title}.txt\")\n",
    "            \n",
    "            # Save the transcript\n",
    "            with open(filename, 'w', encoding='utf-8') as f:\n",
    "                f.write(f\"Title: {video_title}\\n\")\n",
    "                f.write(f\"Transcription Date: {datetime.now().strftime('%Y-%m-%d %H:%M:%S')}\\n\")\n",
    "                f.write(\"\\nTranscript:\\n\")\n",
    "                f.write(result[\"text\"])\n",
    "            \n",
    "            # Clean up the temporary audio file only after successful transcription\n",
    "            if os.path.exists(audio_path):\n",
    "                os.remove(audio_path)\n",
    "            \n",
    "            return filename\n",
    "            \n",
    "        except Exception as e:\n",
    "            print(f\"Error transcribing audio: {str(e)}\")\n",
    "            import traceback\n",
    "            print(traceback.format_exc())  # This will print the full error trace\n",
    "            return None\n",
    "\n",
    "    def process_video(self, youtube_url):\n",
    "        \"\"\"Process a YouTube video: download audio and transcribe\"\"\"\n",
    "        print(\"Downloading audio...\")\n",
    "        audio_path, video_title = self.download_audio(youtube_url)\n",
    "\n",
    "        if audio_path and video_title:\n",
    "            print(\"Transcribing audio (this may take a while)...\")\n",
    "            transcript_path = self.transcribe_audio(audio_path, video_title)\n",
    "            \n",
    "            if transcript_path:\n",
    "                print(f\"\\nTranscription completed! Saved to: {transcript_path}\")\n",
    "                return transcript_path\n",
    "        \n",
    "        return None"
   ]
  },
  {
   "cell_type": "code",
   "execution_count": 28,
   "id": "04cc3630-49df-4e4c-8544-dcf63f20a63d",
   "metadata": {},
   "outputs": [
    {
     "name": "stdout",
     "output_type": "stream",
     "text": [
      "Using device: cuda\n"
     ]
    }
   ],
   "source": [
    "test = YoutubeTranscriber(model_size=\"small\")"
   ]
  },
  {
   "cell_type": "code",
   "execution_count": 29,
   "id": "92c4c956-bcc1-4134-8ca1-4c8874686605",
   "metadata": {},
   "outputs": [
    {
     "data": {
      "text/plain": [
       "'C:\\\\Users\\\\matt_\\\\OneDrive\\\\Desktop\\\\AI_Programming\\\\DOAC_Script_Generator\\\\transcripts'"
      ]
     },
     "execution_count": 29,
     "metadata": {},
     "output_type": "execute_result"
    }
   ],
   "source": [
    "os.path.join(test.working_dir, \"transcripts\")"
   ]
  },
  {
   "cell_type": "code",
   "execution_count": 30,
   "id": "4a75893b-58d6-4642-93d1-0e3914277d3c",
   "metadata": {},
   "outputs": [
    {
     "name": "stdin",
     "output_type": "stream",
     "text": [
      "Enter the YouTube video URL:  https://www.youtube.com/watch?v=R6xbXOp7wDA&t=4147s\n"
     ]
    }
   ],
   "source": [
    "url = input(\"Enter the YouTube video URL: \")"
   ]
  },
  {
   "cell_type": "code",
   "execution_count": 31,
   "id": "6f1894f4-c14b-4634-9d6e-dd26508551b3",
   "metadata": {},
   "outputs": [
    {
     "name": "stdout",
     "output_type": "stream",
     "text": [
      "Downloading audio...\n",
      "[youtube] Extracting URL: https://www.youtube.com/watch?v=R6xbXOp7wDA&t=4147s\n",
      "[youtube] R6xbXOp7wDA: Downloading webpage\n",
      "[youtube] R6xbXOp7wDA: Downloading tv player API JSON\n",
      "[youtube] R6xbXOp7wDA: Downloading ios player API JSON\n",
      "[youtube] R6xbXOp7wDA: Downloading m3u8 information\n",
      "[info] R6xbXOp7wDA: Downloading 1 format(s): 251-6\n",
      "[download] Destination: C:\\Users\\matt_\\OneDrive\\Desktop\\AI_Programming\\DOAC_Script_Generator\\temp_audio.webm\n",
      "[download] 100% of  110.54MiB in 00:00:09 at 12.07MiB/s    \n",
      "[ExtractAudio] Destination: C:\\Users\\matt_\\OneDrive\\Desktop\\AI_Programming\\DOAC_Script_Generator\\temp_audio.mp3\n",
      "Deleting original file C:\\Users\\matt_\\OneDrive\\Desktop\\AI_Programming\\DOAC_Script_Generator\\temp_audio.webm (pass -k to keep)\n",
      "Transcribing audio (this may take a while)...\n",
      "Starting transcription of file: C:\\Users\\matt_\\OneDrive\\Desktop\\AI_Programming\\DOAC_Script_Generator\\temp_audio.mp3\n",
      "\n",
      "Transcription completed! Saved to: C:\\Users\\matt_\\OneDrive\\Desktop\\AI_Programming\\DOAC_Script_Generator\\transcripts\\20250119_002428_Dopamine Expert Doing This Once A Day Fixes Your Dopamine What Alcohol Is Doing To Your Brain.txt\n"
     ]
    },
    {
     "data": {
      "text/plain": [
       "'C:\\\\Users\\\\matt_\\\\OneDrive\\\\Desktop\\\\AI_Programming\\\\DOAC_Script_Generator\\\\transcripts\\\\20250119_002428_Dopamine Expert Doing This Once A Day Fixes Your Dopamine What Alcohol Is Doing To Your Brain.txt'"
      ]
     },
     "execution_count": 31,
     "metadata": {},
     "output_type": "execute_result"
    }
   ],
   "source": [
    "test.process_video(url)"
   ]
  }
 ],
 "metadata": {
  "kernelspec": {
   "display_name": "DOAC",
   "language": "python",
   "name": "doac"
  },
  "language_info": {
   "codemirror_mode": {
    "name": "ipython",
    "version": 3
   },
   "file_extension": ".py",
   "mimetype": "text/x-python",
   "name": "python",
   "nbconvert_exporter": "python",
   "pygments_lexer": "ipython3",
   "version": "3.11.11"
  }
 },
 "nbformat": 4,
 "nbformat_minor": 5
}
